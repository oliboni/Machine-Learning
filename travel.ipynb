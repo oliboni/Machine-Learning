{
  "cells": [
    {
      "cell_type": "code",
      "source": [
        "# https://scikit-learn.org/stable/modules/classes.html\n",
        "\n",
        "import numpy as np\n",
        "import seaborn as sns\n",
        "import pandas as pd\n",
        "import matplotlib.pyplot as plt\n",
        "from sklearn.linear_model import LinearRegression\n",
        "from sklearn.model_selection import cross_val_predict\n",
        "from sklearn.tree import DecisionTreeRegressor\n",
        "from sklearn.neighbors import KNeighborsRegressor\n",
        "from sklearn import linear_model\n",
        "from sklearn.metrics import confusion_matrix, classification_report\n",
        "\n",
        "sns.set()"
      ],
      "outputs": [],
      "execution_count": 122,
      "metadata": {
        "inputHidden": false,
        "outputHidden": false
      }
    },
    {
      "cell_type": "code",
      "source": [
        "travel = pd.read_csv('data/tripadvisor.csv')"
      ],
      "outputs": [],
      "execution_count": 2,
      "metadata": {
        "inputHidden": false,
        "outputHidden": false
      }
    },
    {
      "cell_type": "code",
      "source": [
        "travel.columns"
      ],
      "outputs": [
        {
          "output_type": "execute_result",
          "execution_count": 3,
          "data": {
            "text/plain": [
              "Index([u'Galerias de Arte', u'Clubes de Dança', u'Bares', u'Restaurantes',\n",
              "       u'Museus', u'Resorts', u'Parque', u'Praias', u'Teatros',\n",
              "       u'Centros Religiosos'],\n",
              "      dtype='object')"
            ]
          },
          "metadata": {}
        }
      ],
      "execution_count": 3,
      "metadata": {
        "collapsed": false,
        "outputHidden": false,
        "inputHidden": false
      }
    },
    {
      "cell_type": "code",
      "source": [
        "travel.describe()"
      ],
      "outputs": [
        {
          "output_type": "execute_result",
          "execution_count": 4,
          "data": {
            "text/html": [
              "<div>\n",
              "<style scoped>\n",
              "    .dataframe tbody tr th:only-of-type {\n",
              "        vertical-align: middle;\n",
              "    }\n",
              "\n",
              "    .dataframe tbody tr th {\n",
              "        vertical-align: top;\n",
              "    }\n",
              "\n",
              "    .dataframe thead th {\n",
              "        text-align: right;\n",
              "    }\n",
              "</style>\n",
              "<table border=\"1\" class=\"dataframe\">\n",
              "  <thead>\n",
              "    <tr style=\"text-align: right;\">\n",
              "      <th></th>\n",
              "      <th>Galerias de Arte</th>\n",
              "      <th>Clubes de Dança</th>\n",
              "      <th>Bares</th>\n",
              "      <th>Restaurantes</th>\n",
              "      <th>Museus</th>\n",
              "      <th>Resorts</th>\n",
              "      <th>Parque</th>\n",
              "      <th>Praias</th>\n",
              "      <th>Teatros</th>\n",
              "      <th>Centros Religiosos</th>\n",
              "    </tr>\n",
              "  </thead>\n",
              "  <tbody>\n",
              "    <tr>\n",
              "      <th>count</th>\n",
              "      <td>980.000000</td>\n",
              "      <td>980.000000</td>\n",
              "      <td>980.000000</td>\n",
              "      <td>980.000000</td>\n",
              "      <td>980.000000</td>\n",
              "      <td>980.000000</td>\n",
              "      <td>980.000000</td>\n",
              "      <td>980.000000</td>\n",
              "      <td>980.000000</td>\n",
              "      <td>980.000000</td>\n",
              "    </tr>\n",
              "    <tr>\n",
              "      <th>mean</th>\n",
              "      <td>0.893194</td>\n",
              "      <td>1.352612</td>\n",
              "      <td>1.013306</td>\n",
              "      <td>0.532500</td>\n",
              "      <td>0.939735</td>\n",
              "      <td>1.842898</td>\n",
              "      <td>3.180939</td>\n",
              "      <td>2.835061</td>\n",
              "      <td>1.569439</td>\n",
              "      <td>2.799224</td>\n",
              "    </tr>\n",
              "    <tr>\n",
              "      <th>std</th>\n",
              "      <td>0.326912</td>\n",
              "      <td>0.478280</td>\n",
              "      <td>0.788607</td>\n",
              "      <td>0.279731</td>\n",
              "      <td>0.437430</td>\n",
              "      <td>0.539538</td>\n",
              "      <td>0.007824</td>\n",
              "      <td>0.137505</td>\n",
              "      <td>0.364629</td>\n",
              "      <td>0.321380</td>\n",
              "    </tr>\n",
              "    <tr>\n",
              "      <th>min</th>\n",
              "      <td>0.340000</td>\n",
              "      <td>0.000000</td>\n",
              "      <td>0.130000</td>\n",
              "      <td>0.150000</td>\n",
              "      <td>0.060000</td>\n",
              "      <td>0.140000</td>\n",
              "      <td>3.160000</td>\n",
              "      <td>2.420000</td>\n",
              "      <td>0.740000</td>\n",
              "      <td>2.140000</td>\n",
              "    </tr>\n",
              "    <tr>\n",
              "      <th>25%</th>\n",
              "      <td>0.670000</td>\n",
              "      <td>1.080000</td>\n",
              "      <td>0.270000</td>\n",
              "      <td>0.410000</td>\n",
              "      <td>0.640000</td>\n",
              "      <td>1.460000</td>\n",
              "      <td>3.180000</td>\n",
              "      <td>2.740000</td>\n",
              "      <td>1.310000</td>\n",
              "      <td>2.540000</td>\n",
              "    </tr>\n",
              "    <tr>\n",
              "      <th>50%</th>\n",
              "      <td>0.830000</td>\n",
              "      <td>1.280000</td>\n",
              "      <td>0.820000</td>\n",
              "      <td>0.500000</td>\n",
              "      <td>0.900000</td>\n",
              "      <td>1.800000</td>\n",
              "      <td>3.180000</td>\n",
              "      <td>2.820000</td>\n",
              "      <td>1.540000</td>\n",
              "      <td>2.780000</td>\n",
              "    </tr>\n",
              "    <tr>\n",
              "      <th>75%</th>\n",
              "      <td>1.020000</td>\n",
              "      <td>1.560000</td>\n",
              "      <td>1.572500</td>\n",
              "      <td>0.580000</td>\n",
              "      <td>1.200000</td>\n",
              "      <td>2.200000</td>\n",
              "      <td>3.180000</td>\n",
              "      <td>2.910000</td>\n",
              "      <td>1.760000</td>\n",
              "      <td>3.040000</td>\n",
              "    </tr>\n",
              "    <tr>\n",
              "      <th>max</th>\n",
              "      <td>3.220000</td>\n",
              "      <td>3.640000</td>\n",
              "      <td>3.620000</td>\n",
              "      <td>3.440000</td>\n",
              "      <td>3.300000</td>\n",
              "      <td>3.760000</td>\n",
              "      <td>3.210000</td>\n",
              "      <td>3.390000</td>\n",
              "      <td>3.170000</td>\n",
              "      <td>3.660000</td>\n",
              "    </tr>\n",
              "  </tbody>\n",
              "</table>\n",
              "</div>"
            ],
            "text/plain": [
              "       Galerias de Arte  Clubes de Dança       Bares  Restaurantes  \\\n",
              "count        980.000000       980.000000  980.000000    980.000000   \n",
              "mean           0.893194         1.352612    1.013306      0.532500   \n",
              "std            0.326912         0.478280    0.788607      0.279731   \n",
              "min            0.340000         0.000000    0.130000      0.150000   \n",
              "25%            0.670000         1.080000    0.270000      0.410000   \n",
              "50%            0.830000         1.280000    0.820000      0.500000   \n",
              "75%            1.020000         1.560000    1.572500      0.580000   \n",
              "max            3.220000         3.640000    3.620000      3.440000   \n",
              "\n",
              "           Museus     Resorts      Parque      Praias     Teatros  \\\n",
              "count  980.000000  980.000000  980.000000  980.000000  980.000000   \n",
              "mean     0.939735    1.842898    3.180939    2.835061    1.569439   \n",
              "std      0.437430    0.539538    0.007824    0.137505    0.364629   \n",
              "min      0.060000    0.140000    3.160000    2.420000    0.740000   \n",
              "25%      0.640000    1.460000    3.180000    2.740000    1.310000   \n",
              "50%      0.900000    1.800000    3.180000    2.820000    1.540000   \n",
              "75%      1.200000    2.200000    3.180000    2.910000    1.760000   \n",
              "max      3.300000    3.760000    3.210000    3.390000    3.170000   \n",
              "\n",
              "       Centros Religiosos  \n",
              "count          980.000000  \n",
              "mean             2.799224  \n",
              "std              0.321380  \n",
              "min              2.140000  \n",
              "25%              2.540000  \n",
              "50%              2.780000  \n",
              "75%              3.040000  \n",
              "max              3.660000  "
            ]
          },
          "metadata": {}
        }
      ],
      "execution_count": 4,
      "metadata": {
        "collapsed": false,
        "outputHidden": false,
        "inputHidden": false
      }
    },
    {
      "cell_type": "markdown",
      "source": [
        "- Atráves da das informações mostradas a cima, podemos observar que todos os os campos estão preenchidos, não faltando dados.\n",
        "- Aparentemente são notas que vão de 0 a 4, pois o valor máximo foi 3.76, enquanto o mínimo foi 0.00.\n",
        "- Feature que teve o maior desvio padrão foi Resorts.\n",
        "- Feature que obteve a maior média foi Parque, enquanto a que obteve a menor média foi Restaurantes."
      ],
      "metadata": {}
    },
    {
      "cell_type": "code",
      "source": [
        "travel.head(10)"
      ],
      "outputs": [
        {
          "output_type": "execute_result",
          "execution_count": 5,
          "data": {
            "text/html": [
              "<div>\n",
              "<style scoped>\n",
              "    .dataframe tbody tr th:only-of-type {\n",
              "        vertical-align: middle;\n",
              "    }\n",
              "\n",
              "    .dataframe tbody tr th {\n",
              "        vertical-align: top;\n",
              "    }\n",
              "\n",
              "    .dataframe thead th {\n",
              "        text-align: right;\n",
              "    }\n",
              "</style>\n",
              "<table border=\"1\" class=\"dataframe\">\n",
              "  <thead>\n",
              "    <tr style=\"text-align: right;\">\n",
              "      <th></th>\n",
              "      <th>Galerias de Arte</th>\n",
              "      <th>Clubes de Dança</th>\n",
              "      <th>Bares</th>\n",
              "      <th>Restaurantes</th>\n",
              "      <th>Museus</th>\n",
              "      <th>Resorts</th>\n",
              "      <th>Parque</th>\n",
              "      <th>Praias</th>\n",
              "      <th>Teatros</th>\n",
              "      <th>Centros Religiosos</th>\n",
              "    </tr>\n",
              "  </thead>\n",
              "  <tbody>\n",
              "    <tr>\n",
              "      <th>0</th>\n",
              "      <td>0.93</td>\n",
              "      <td>1.80</td>\n",
              "      <td>2.29</td>\n",
              "      <td>0.62</td>\n",
              "      <td>0.80</td>\n",
              "      <td>2.42</td>\n",
              "      <td>3.19</td>\n",
              "      <td>2.79</td>\n",
              "      <td>1.82</td>\n",
              "      <td>2.42</td>\n",
              "    </tr>\n",
              "    <tr>\n",
              "      <th>1</th>\n",
              "      <td>1.02</td>\n",
              "      <td>2.20</td>\n",
              "      <td>2.66</td>\n",
              "      <td>0.64</td>\n",
              "      <td>1.42</td>\n",
              "      <td>3.18</td>\n",
              "      <td>3.21</td>\n",
              "      <td>2.63</td>\n",
              "      <td>1.86</td>\n",
              "      <td>2.32</td>\n",
              "    </tr>\n",
              "    <tr>\n",
              "      <th>2</th>\n",
              "      <td>1.22</td>\n",
              "      <td>0.80</td>\n",
              "      <td>0.54</td>\n",
              "      <td>0.53</td>\n",
              "      <td>0.24</td>\n",
              "      <td>1.54</td>\n",
              "      <td>3.18</td>\n",
              "      <td>2.80</td>\n",
              "      <td>1.31</td>\n",
              "      <td>2.50</td>\n",
              "    </tr>\n",
              "    <tr>\n",
              "      <th>3</th>\n",
              "      <td>0.45</td>\n",
              "      <td>1.80</td>\n",
              "      <td>0.29</td>\n",
              "      <td>0.57</td>\n",
              "      <td>0.46</td>\n",
              "      <td>1.52</td>\n",
              "      <td>3.18</td>\n",
              "      <td>2.96</td>\n",
              "      <td>1.57</td>\n",
              "      <td>2.86</td>\n",
              "    </tr>\n",
              "    <tr>\n",
              "      <th>4</th>\n",
              "      <td>0.51</td>\n",
              "      <td>1.20</td>\n",
              "      <td>1.18</td>\n",
              "      <td>0.57</td>\n",
              "      <td>1.54</td>\n",
              "      <td>2.02</td>\n",
              "      <td>3.18</td>\n",
              "      <td>2.78</td>\n",
              "      <td>1.18</td>\n",
              "      <td>2.54</td>\n",
              "    </tr>\n",
              "    <tr>\n",
              "      <th>5</th>\n",
              "      <td>0.99</td>\n",
              "      <td>1.28</td>\n",
              "      <td>0.72</td>\n",
              "      <td>0.27</td>\n",
              "      <td>0.74</td>\n",
              "      <td>1.26</td>\n",
              "      <td>3.17</td>\n",
              "      <td>2.89</td>\n",
              "      <td>1.66</td>\n",
              "      <td>3.66</td>\n",
              "    </tr>\n",
              "    <tr>\n",
              "      <th>6</th>\n",
              "      <td>0.90</td>\n",
              "      <td>1.36</td>\n",
              "      <td>0.26</td>\n",
              "      <td>0.32</td>\n",
              "      <td>0.86</td>\n",
              "      <td>1.58</td>\n",
              "      <td>3.17</td>\n",
              "      <td>2.66</td>\n",
              "      <td>1.22</td>\n",
              "      <td>3.22</td>\n",
              "    </tr>\n",
              "    <tr>\n",
              "      <th>7</th>\n",
              "      <td>0.74</td>\n",
              "      <td>1.40</td>\n",
              "      <td>0.22</td>\n",
              "      <td>0.41</td>\n",
              "      <td>0.82</td>\n",
              "      <td>1.50</td>\n",
              "      <td>3.17</td>\n",
              "      <td>2.81</td>\n",
              "      <td>1.54</td>\n",
              "      <td>2.88</td>\n",
              "    </tr>\n",
              "    <tr>\n",
              "      <th>8</th>\n",
              "      <td>1.12</td>\n",
              "      <td>1.76</td>\n",
              "      <td>1.04</td>\n",
              "      <td>0.64</td>\n",
              "      <td>0.82</td>\n",
              "      <td>2.14</td>\n",
              "      <td>3.18</td>\n",
              "      <td>2.79</td>\n",
              "      <td>1.41</td>\n",
              "      <td>2.54</td>\n",
              "    </tr>\n",
              "    <tr>\n",
              "      <th>9</th>\n",
              "      <td>0.70</td>\n",
              "      <td>1.36</td>\n",
              "      <td>0.22</td>\n",
              "      <td>0.26</td>\n",
              "      <td>1.50</td>\n",
              "      <td>1.54</td>\n",
              "      <td>3.17</td>\n",
              "      <td>2.82</td>\n",
              "      <td>2.24</td>\n",
              "      <td>3.12</td>\n",
              "    </tr>\n",
              "  </tbody>\n",
              "</table>\n",
              "</div>"
            ],
            "text/plain": [
              "   Galerias de Arte  Clubes de Dança  Bares  Restaurantes  Museus  Resorts  \\\n",
              "0              0.93             1.80   2.29          0.62    0.80     2.42   \n",
              "1              1.02             2.20   2.66          0.64    1.42     3.18   \n",
              "2              1.22             0.80   0.54          0.53    0.24     1.54   \n",
              "3              0.45             1.80   0.29          0.57    0.46     1.52   \n",
              "4              0.51             1.20   1.18          0.57    1.54     2.02   \n",
              "5              0.99             1.28   0.72          0.27    0.74     1.26   \n",
              "6              0.90             1.36   0.26          0.32    0.86     1.58   \n",
              "7              0.74             1.40   0.22          0.41    0.82     1.50   \n",
              "8              1.12             1.76   1.04          0.64    0.82     2.14   \n",
              "9              0.70             1.36   0.22          0.26    1.50     1.54   \n",
              "\n",
              "   Parque  Praias  Teatros  Centros Religiosos  \n",
              "0    3.19    2.79     1.82                2.42  \n",
              "1    3.21    2.63     1.86                2.32  \n",
              "2    3.18    2.80     1.31                2.50  \n",
              "3    3.18    2.96     1.57                2.86  \n",
              "4    3.18    2.78     1.18                2.54  \n",
              "5    3.17    2.89     1.66                3.66  \n",
              "6    3.17    2.66     1.22                3.22  \n",
              "7    3.17    2.81     1.54                2.88  \n",
              "8    3.18    2.79     1.41                2.54  \n",
              "9    3.17    2.82     2.24                3.12  "
            ]
          },
          "metadata": {}
        }
      ],
      "execution_count": 5,
      "metadata": {
        "inputHidden": false,
        "outputHidden": false
      }
    },
    {
      "cell_type": "code",
      "source": [
        "travel.tail(10)"
      ],
      "outputs": [
        {
          "output_type": "execute_result",
          "execution_count": 6,
          "data": {
            "text/html": [
              "<div>\n",
              "<style scoped>\n",
              "    .dataframe tbody tr th:only-of-type {\n",
              "        vertical-align: middle;\n",
              "    }\n",
              "\n",
              "    .dataframe tbody tr th {\n",
              "        vertical-align: top;\n",
              "    }\n",
              "\n",
              "    .dataframe thead th {\n",
              "        text-align: right;\n",
              "    }\n",
              "</style>\n",
              "<table border=\"1\" class=\"dataframe\">\n",
              "  <thead>\n",
              "    <tr style=\"text-align: right;\">\n",
              "      <th></th>\n",
              "      <th>Galerias de Arte</th>\n",
              "      <th>Clubes de Dança</th>\n",
              "      <th>Bares</th>\n",
              "      <th>Restaurantes</th>\n",
              "      <th>Museus</th>\n",
              "      <th>Resorts</th>\n",
              "      <th>Parque</th>\n",
              "      <th>Praias</th>\n",
              "      <th>Teatros</th>\n",
              "      <th>Centros Religiosos</th>\n",
              "    </tr>\n",
              "  </thead>\n",
              "  <tbody>\n",
              "    <tr>\n",
              "      <th>970</th>\n",
              "      <td>0.58</td>\n",
              "      <td>1.96</td>\n",
              "      <td>0.24</td>\n",
              "      <td>0.47</td>\n",
              "      <td>1.04</td>\n",
              "      <td>1.74</td>\n",
              "      <td>3.18</td>\n",
              "      <td>2.70</td>\n",
              "      <td>1.57</td>\n",
              "      <td>2.62</td>\n",
              "    </tr>\n",
              "    <tr>\n",
              "      <th>971</th>\n",
              "      <td>1.28</td>\n",
              "      <td>1.24</td>\n",
              "      <td>0.14</td>\n",
              "      <td>0.55</td>\n",
              "      <td>0.62</td>\n",
              "      <td>2.26</td>\n",
              "      <td>3.18</td>\n",
              "      <td>2.86</td>\n",
              "      <td>2.46</td>\n",
              "      <td>2.54</td>\n",
              "    </tr>\n",
              "    <tr>\n",
              "      <th>972</th>\n",
              "      <td>1.22</td>\n",
              "      <td>1.16</td>\n",
              "      <td>0.38</td>\n",
              "      <td>1.55</td>\n",
              "      <td>0.40</td>\n",
              "      <td>1.24</td>\n",
              "      <td>3.18</td>\n",
              "      <td>2.82</td>\n",
              "      <td>1.92</td>\n",
              "      <td>2.54</td>\n",
              "    </tr>\n",
              "    <tr>\n",
              "      <th>973</th>\n",
              "      <td>0.38</td>\n",
              "      <td>1.96</td>\n",
              "      <td>0.19</td>\n",
              "      <td>0.48</td>\n",
              "      <td>1.14</td>\n",
              "      <td>2.14</td>\n",
              "      <td>3.18</td>\n",
              "      <td>2.78</td>\n",
              "      <td>1.54</td>\n",
              "      <td>2.58</td>\n",
              "    </tr>\n",
              "    <tr>\n",
              "      <th>974</th>\n",
              "      <td>1.02</td>\n",
              "      <td>2.44</td>\n",
              "      <td>1.89</td>\n",
              "      <td>0.47</td>\n",
              "      <td>1.76</td>\n",
              "      <td>2.50</td>\n",
              "      <td>3.19</td>\n",
              "      <td>2.66</td>\n",
              "      <td>1.73</td>\n",
              "      <td>2.48</td>\n",
              "    </tr>\n",
              "    <tr>\n",
              "      <th>975</th>\n",
              "      <td>0.74</td>\n",
              "      <td>1.12</td>\n",
              "      <td>0.30</td>\n",
              "      <td>0.53</td>\n",
              "      <td>0.88</td>\n",
              "      <td>1.38</td>\n",
              "      <td>3.17</td>\n",
              "      <td>2.78</td>\n",
              "      <td>0.99</td>\n",
              "      <td>3.20</td>\n",
              "    </tr>\n",
              "    <tr>\n",
              "      <th>976</th>\n",
              "      <td>1.25</td>\n",
              "      <td>0.92</td>\n",
              "      <td>1.12</td>\n",
              "      <td>0.38</td>\n",
              "      <td>0.78</td>\n",
              "      <td>1.68</td>\n",
              "      <td>3.18</td>\n",
              "      <td>2.79</td>\n",
              "      <td>1.34</td>\n",
              "      <td>2.80</td>\n",
              "    </tr>\n",
              "    <tr>\n",
              "      <th>977</th>\n",
              "      <td>0.61</td>\n",
              "      <td>1.32</td>\n",
              "      <td>0.67</td>\n",
              "      <td>0.43</td>\n",
              "      <td>1.30</td>\n",
              "      <td>1.78</td>\n",
              "      <td>3.17</td>\n",
              "      <td>2.81</td>\n",
              "      <td>1.34</td>\n",
              "      <td>3.02</td>\n",
              "    </tr>\n",
              "    <tr>\n",
              "      <th>978</th>\n",
              "      <td>0.93</td>\n",
              "      <td>0.20</td>\n",
              "      <td>0.13</td>\n",
              "      <td>0.43</td>\n",
              "      <td>0.30</td>\n",
              "      <td>0.40</td>\n",
              "      <td>3.18</td>\n",
              "      <td>2.98</td>\n",
              "      <td>1.12</td>\n",
              "      <td>2.46</td>\n",
              "    </tr>\n",
              "    <tr>\n",
              "      <th>979</th>\n",
              "      <td>0.93</td>\n",
              "      <td>0.56</td>\n",
              "      <td>1.13</td>\n",
              "      <td>0.51</td>\n",
              "      <td>1.34</td>\n",
              "      <td>2.36</td>\n",
              "      <td>3.18</td>\n",
              "      <td>2.87</td>\n",
              "      <td>1.34</td>\n",
              "      <td>2.40</td>\n",
              "    </tr>\n",
              "  </tbody>\n",
              "</table>\n",
              "</div>"
            ],
            "text/plain": [
              "     Galerias de Arte  Clubes de Dança  Bares  Restaurantes  Museus  Resorts  \\\n",
              "970              0.58             1.96   0.24          0.47    1.04     1.74   \n",
              "971              1.28             1.24   0.14          0.55    0.62     2.26   \n",
              "972              1.22             1.16   0.38          1.55    0.40     1.24   \n",
              "973              0.38             1.96   0.19          0.48    1.14     2.14   \n",
              "974              1.02             2.44   1.89          0.47    1.76     2.50   \n",
              "975              0.74             1.12   0.30          0.53    0.88     1.38   \n",
              "976              1.25             0.92   1.12          0.38    0.78     1.68   \n",
              "977              0.61             1.32   0.67          0.43    1.30     1.78   \n",
              "978              0.93             0.20   0.13          0.43    0.30     0.40   \n",
              "979              0.93             0.56   1.13          0.51    1.34     2.36   \n",
              "\n",
              "     Parque  Praias  Teatros  Centros Religiosos  \n",
              "970    3.18    2.70     1.57                2.62  \n",
              "971    3.18    2.86     2.46                2.54  \n",
              "972    3.18    2.82     1.92                2.54  \n",
              "973    3.18    2.78     1.54                2.58  \n",
              "974    3.19    2.66     1.73                2.48  \n",
              "975    3.17    2.78     0.99                3.20  \n",
              "976    3.18    2.79     1.34                2.80  \n",
              "977    3.17    2.81     1.34                3.02  \n",
              "978    3.18    2.98     1.12                2.46  \n",
              "979    3.18    2.87     1.34                2.40  "
            ]
          },
          "metadata": {}
        }
      ],
      "execution_count": 6,
      "metadata": {
        "collapsed": false,
        "outputHidden": false,
        "inputHidden": false
      }
    },
    {
      "cell_type": "markdown",
      "source": [
        "Vendo os 10 primeiros dados e os últimos 10, não conseguimos identificar um padrão, até por que trata-se de avaliações de diferentes pessoas."
      ],
      "metadata": {}
    },
    {
      "cell_type": "code",
      "source": [
        "travel.dtypes"
      ],
      "outputs": [
        {
          "output_type": "execute_result",
          "execution_count": 7,
          "data": {
            "text/plain": [
              "Galerias de Arte      float64\n",
              "Clubes de Dança       float64\n",
              "Bares                 float64\n",
              "Restaurantes          float64\n",
              "Museus                float64\n",
              "Resorts               float64\n",
              "Parque                float64\n",
              "Praias                float64\n",
              "Teatros               float64\n",
              "Centros Religiosos    float64\n",
              "dtype: object"
            ]
          },
          "metadata": {}
        }
      ],
      "execution_count": 7,
      "metadata": {
        "collapsed": false,
        "outputHidden": false,
        "inputHidden": false
      }
    },
    {
      "cell_type": "code",
      "source": [
        "travel[travel['Resorts'] > 3.4]"
      ],
      "outputs": [
        {
          "output_type": "execute_result",
          "execution_count": 8,
          "data": {
            "text/html": [
              "<div>\n",
              "<style scoped>\n",
              "    .dataframe tbody tr th:only-of-type {\n",
              "        vertical-align: middle;\n",
              "    }\n",
              "\n",
              "    .dataframe tbody tr th {\n",
              "        vertical-align: top;\n",
              "    }\n",
              "\n",
              "    .dataframe thead th {\n",
              "        text-align: right;\n",
              "    }\n",
              "</style>\n",
              "<table border=\"1\" class=\"dataframe\">\n",
              "  <thead>\n",
              "    <tr style=\"text-align: right;\">\n",
              "      <th></th>\n",
              "      <th>Galerias de Arte</th>\n",
              "      <th>Clubes de Dança</th>\n",
              "      <th>Bares</th>\n",
              "      <th>Restaurantes</th>\n",
              "      <th>Museus</th>\n",
              "      <th>Resorts</th>\n",
              "      <th>Parque</th>\n",
              "      <th>Praias</th>\n",
              "      <th>Teatros</th>\n",
              "      <th>Centros Religiosos</th>\n",
              "    </tr>\n",
              "  </thead>\n",
              "  <tbody>\n",
              "    <tr>\n",
              "      <th>536</th>\n",
              "      <td>0.74</td>\n",
              "      <td>2.24</td>\n",
              "      <td>2.63</td>\n",
              "      <td>0.72</td>\n",
              "      <td>1.4</td>\n",
              "      <td>3.76</td>\n",
              "      <td>3.2</td>\n",
              "      <td>2.75</td>\n",
              "      <td>1.63</td>\n",
              "      <td>2.48</td>\n",
              "    </tr>\n",
              "  </tbody>\n",
              "</table>\n",
              "</div>"
            ],
            "text/plain": [
              "     Galerias de Arte  Clubes de Dança  Bares  Restaurantes  Museus  Resorts  \\\n",
              "536              0.74             2.24   2.63          0.72     1.4     3.76   \n",
              "\n",
              "     Parque  Praias  Teatros  Centros Religiosos  \n",
              "536     3.2    2.75     1.63                2.48  "
            ]
          },
          "metadata": {}
        }
      ],
      "execution_count": 8,
      "metadata": {
        "inputHidden": false,
        "outputHidden": false
      }
    },
    {
      "cell_type": "code",
      "source": [
        "# este comando abaixo é requerido para execução do matplotlib em notebooks jupyter\n",
        "%matplotlib inline  \n",
        "plt.figure(figsize=(20, 5))\n",
        "sns.distplot(travel['Restaurantes'])"
      ],
      "outputs": [
        {
          "output_type": "execute_result",
          "execution_count": 9,
          "data": {
            "text/plain": [
              "<matplotlib.axes._subplots.AxesSubplot at 0x7f45547d05d0>"
            ]
          },
          "metadata": {}
        },
        {
          "output_type": "display_data",
          "data": {
            "image/png": "[encoded data removed]",
            "text/plain": [
              "<Figure size 1440x360 with 1 Axes>"
            ]
          },
          "metadata": {
            "needs_background": "light"
          }
        }
      ],
      "execution_count": 9,
      "metadata": {
        "inputHidden": false,
        "outputHidden": false
      }
    },
    {
      "cell_type": "markdown",
      "source": [
        "* Através deste gráfico, podemos perceber que a maior parte dos dados está entre 0 e 1, com maior concentração em 0.5."
      ],
      "metadata": {}
    },
    {
      "cell_type": "code",
      "source": [
        "travel[['Restaurantes','Clubes de Dança','Bares']].plot(kind='kde')"
      ],
      "outputs": [
        {
          "output_type": "execute_result",
          "execution_count": 10,
          "data": {
            "text/plain": [
              "<matplotlib.axes._subplots.AxesSubplot at 0x7f45546ba690>"
            ]
          },
          "metadata": {}
        },
        {
          "output_type": "display_data",
          "data": {
            "image/png": "[encoded data removed]",
            "text/plain": [
              "<Figure size 432x288 with 1 Axes>"
            ]
          },
          "metadata": {
            "needs_background": "light"
          }
        }
      ],
      "execution_count": 10,
      "metadata": {
        "collapsed": false,
        "outputHidden": false,
        "inputHidden": false
      }
    },
    {
      "cell_type": "markdown",
      "source": [
        "Comparada a outras Features, 'Restaurante' é a mais concentrada, enquanto 'Clube de Dança' e 'Bares'"
      ],
      "metadata": {}
    },
    {
      "cell_type": "code",
      "source": [
        "reg = LinearRegression().fit(travel[['Galerias de Arte','Clubes de Dança','Bares','Museus','Resorts','Parque','Praias','Teatros', 'Centros Religiosos']], travel[['Restaurantes']])\n",
        "reg.score(travel[['Galerias de Arte','Clubes de Dança','Bares','Museus','Resorts','Parque','Praias','Teatros', 'Centros Religiosos']], travel[['Restaurantes']])\n"
      ],
      "outputs": [
        {
          "output_type": "execute_result",
          "execution_count": 11,
          "data": {
            "text/plain": [
              "0.17266560683048682"
            ]
          },
          "metadata": {}
        }
      ],
      "execution_count": 11,
      "metadata": {
        "collapsed": false,
        "outputHidden": false,
        "inputHidden": false
      }
    },
    {
      "cell_type": "code",
      "source": [
        "reg = LinearRegression()\n",
        "cross_val_predict(reg,travel[['Clubes de Dança','Bares','Museus','Resorts','Praias','Teatros', 'Centros Religiosos']], travel[['Restaurantes']], cv=5).mean()"
      ],
      "outputs": [
        {
          "output_type": "execute_result",
          "execution_count": 44,
          "data": {
            "text/plain": [
              "0.5328357321247928"
            ]
          },
          "metadata": {}
        }
      ],
      "execution_count": 44,
      "metadata": {
        "collapsed": false,
        "outputHidden": false,
        "inputHidden": false
      }
    },
    {
      "cell_type": "markdown",
      "source": [
        "- Ao tirar a Feature Parque, tivemos uma melhora significativa em relação a estivativa de acertos.\n"
      ],
      "metadata": {}
    },
    {
      "cell_type": "code",
      "source": [
        "lr = linear_model.LinearRegression()\n",
        "predicted = cross_val_predict(lr, travel[['Parque','Galerias de Arte','Clubes de Dança','Bares','Museus','Resorts','Praias','Teatros', 'Centros Religiosos']], travel[['Restaurantes']], cv=5)\n",
        "\n",
        "fig, ax = plt.subplots()\n",
        "ax.scatter(travel[['Restaurantes']], predicted, edgecolors=(0, 0, 0))\n",
        "ax.plot([travel[['Restaurantes']].min(), travel[['Restaurantes']].max()], [travel[['Restaurantes']].min(), travel[['Restaurantes']].max()], 'k--', lw=4)\n",
        "ax.set_xlabel('Measured')\n",
        "ax.set_ylabel('Predicted')\n",
        "plt.show()"
      ],
      "outputs": [
        {
          "output_type": "display_data",
          "data": {
            "image/png": "[encoded data removed]",
            "text/plain": [
              "<Figure size 432x288 with 1 Axes>"
            ]
          },
          "metadata": {}
        }
      ],
      "execution_count": 58,
      "metadata": {
        "collapsed": false,
        "outputHidden": false,
        "inputHidden": false
      }
    },
    {
      "cell_type": "markdown",
      "source": [
        "Como verificado no Gráfico, a maioria dos valores de 'Restautante' ficam acomulados e utilizando a Regressão acertaria uma grande parte delas. Pois a reta passa no meio do acumolo dos valores. "
      ],
      "metadata": {}
    },
    {
      "cell_type": "code",
      "source": [
        "regressor = DecisionTreeRegressor(random_state=0)\n",
        "cross_val_predict(regressor, travel[['Parque','Galerias de Arte','Clubes de Dança','Bares','Museus','Resorts','Praias','Teatros', 'Centros Religiosos']], travel[['Restaurantes']], cv=10)"
      ],
      "outputs": [
        {
          "output_type": "execute_result",
          "execution_count": 123,
          "data": {
            "text/plain": [
              "array([0.59, 0.41, 0.69, 0.56, 0.57, 0.4 , 0.35, 0.56, 2.91, 0.42, 0.71,\n",
              "       0.38, 0.45, 0.45, 0.77, 0.41, 0.34, 0.55, 0.5 , 0.55, 0.41, 0.48,\n",
              "       0.38, 0.37, 0.55, 0.45, 0.66, 0.5 , 0.38, 0.49, 0.64, 0.59, 0.5 ,\n",
              "       0.62, 0.29, 0.39, 0.57, 0.33, 0.62, 0.61, 0.24, 0.46, 0.53, 0.48,\n",
              "       0.47, 0.34, 0.43, 0.55, 2.38, 0.65, 0.38, 0.43, 0.29, 0.47, 0.43,\n",
              "       0.33, 0.39, 0.41, 0.63, 0.53, 0.41, 0.85, 0.61, 0.26, 0.37, 0.62,\n",
              "       0.51, 0.18, 0.34, 0.57, 0.74, 0.96, 0.9 , 0.41, 0.66, 0.45, 0.25,\n",
              "       0.63, 0.32, 0.42, 0.49, 0.41, 0.24, 0.62, 0.5 , 0.5 , 1.12, 0.81,\n",
              "       1.83, 0.61, 0.33, 0.33, 0.54, 0.63, 0.64, 0.53, 0.34, 0.57, 0.43,\n",
              "       0.38, 0.58, 0.53, 0.5 , 0.48, 0.4 , 0.5 , 0.67, 0.25, 0.53, 0.62,\n",
              "       0.35, 0.45, 0.64, 0.42, 0.96, 0.65, 0.56, 0.43, 0.31, 0.45, 0.57,\n",
              "       0.47, 0.54, 1.09, 0.39, 0.3 , 0.3 , 0.56, 0.33, 0.26, 0.58, 0.57,\n",
              "       0.24, 0.71, 0.66, 0.55, 0.5 , 0.53, 0.51, 0.5 , 0.38, 0.45, 0.32,\n",
              "       3.1 , 0.24, 0.38, 1.58, 0.53, 0.47, 0.48, 0.46, 0.46, 0.39, 0.37,\n",
              "       0.47, 0.58, 0.62, 0.53, 0.5 , 0.22, 0.45, 0.42, 0.64, 0.34, 0.46,\n",
              "       0.85, 0.5 , 0.47, 0.45, 0.45, 0.39, 0.59, 0.48, 0.37, 0.42, 0.71,\n",
              "       0.46, 0.55, 0.64, 0.45, 0.23, 0.64, 0.56, 0.37, 0.56, 0.42, 1.62,\n",
              "       0.32, 0.43, 0.31, 0.57, 0.47, 0.49, 0.38, 0.4 , 0.31, 0.43, 0.59,\n",
              "       0.17, 0.53, 0.67, 0.35, 0.5 , 0.42, 0.35, 0.48, 0.62, 0.53, 0.5 ,\n",
              "       0.43, 0.35, 0.55, 0.35, 0.57, 0.25, 0.43, 0.41, 0.46, 0.56, 0.35,\n",
              "       0.46, 0.32, 0.51, 0.33, 0.61, 0.34, 1.05, 0.4 , 0.31, 0.66, 0.45,\n",
              "       0.66, 0.18, 0.4 , 0.43, 0.4 , 0.47, 0.47, 0.47, 0.43, 0.5 , 0.58,\n",
              "       0.63, 0.39, 1.65, 0.39, 0.42, 1.12, 0.19, 0.4 , 0.64, 0.46, 0.65,\n",
              "       0.71, 0.27, 0.39, 0.48, 0.47, 0.39, 0.58, 0.53, 0.53, 0.56, 0.53,\n",
              "       0.32, 0.59, 0.53, 0.51, 0.38, 0.5 , 0.43, 0.33, 0.54, 0.47, 0.56,\n",
              "       0.49, 0.49, 0.54, 0.45, 0.72, 0.33, 0.49, 0.58, 0.66, 0.35, 0.49,\n",
              "       2.25, 0.35, 0.43, 0.43, 0.47, 0.53, 0.61, 1.1 , 0.38, 0.57, 0.54,\n",
              "       0.46, 0.67, 0.62, 0.26, 0.71, 0.46, 0.47, 0.49, 0.61, 0.54, 0.54,\n",
              "       0.43, 0.65, 0.49, 0.51, 1.05, 0.5 , 0.47, 0.58, 0.61, 0.47, 2.38,\n",
              "       0.29, 0.35, 0.35, 0.53, 2.38, 0.61, 0.42, 0.53, 0.47, 0.91, 0.67,\n",
              "       0.47, 2.91, 0.62, 0.64, 1.91, 0.62, 0.48, 0.22, 0.51, 0.49, 0.51,\n",
              "       0.5 , 0.39, 0.62, 0.45, 0.38, 0.61, 0.61, 0.53, 0.63, 0.35, 0.26,\n",
              "       0.55, 0.4 , 0.32, 0.19, 0.42, 0.39, 0.58, 0.42, 2.38, 0.64, 0.64,\n",
              "       0.49, 0.91, 0.57, 0.58, 0.42, 0.61, 2.25, 0.33, 0.49, 0.58, 0.61,\n",
              "       0.5 , 0.62, 0.56, 0.57, 0.61, 0.46, 0.62, 0.62, 0.69, 0.55, 0.43,\n",
              "       0.65, 0.56, 0.64, 0.47, 0.33, 0.54, 0.62, 0.53, 0.42, 0.42, 0.55,\n",
              "       0.32, 0.95, 0.47, 0.53, 0.39, 0.39, 0.39, 0.35, 0.61, 2.91, 0.45,\n",
              "       0.63, 0.47, 0.54, 0.51, 0.4 , 0.42, 0.51, 0.53, 0.54, 0.42, 0.37,\n",
              "       0.37, 0.47, 0.49, 0.43, 1.98, 0.37, 0.46, 0.69, 0.51, 0.39, 0.38,\n",
              "       0.38, 0.91, 0.53, 0.56, 0.5 , 0.53, 0.41, 0.22, 0.43, 0.54, 0.64,\n",
              "       0.47, 0.3 , 0.33, 0.42, 0.63, 0.35, 0.42, 0.43, 0.47, 0.5 , 0.58,\n",
              "       1.11, 0.5 , 0.61, 0.47, 0.47, 0.64, 0.53, 0.62, 0.48, 0.49, 0.24,\n",
              "       0.61, 0.58, 0.46, 0.65, 0.37, 0.57, 0.29, 0.58, 0.5 , 0.42, 0.17,\n",
              "       0.35, 0.33, 0.46, 0.38, 0.37, 0.43, 0.24, 0.42, 0.49, 0.61, 0.48,\n",
              "       0.39, 0.45, 0.5 , 0.47, 0.38, 0.53, 0.37, 0.39, 0.38, 0.5 , 0.61,\n",
              "       0.42, 0.26, 0.56, 0.4 , 0.45, 0.51, 0.29, 0.41, 0.53, 0.46, 0.34,\n",
              "       0.39, 2.25, 0.43, 0.59, 0.38, 0.27, 0.46, 0.66, 0.46, 0.55, 0.58,\n",
              "       0.54, 0.34, 0.47, 0.49, 0.64, 0.57, 0.53, 0.5 , 0.53, 0.43, 0.47,\n",
              "       0.48, 0.51, 0.61, 0.56, 0.45, 0.29, 0.41, 0.45, 0.56, 0.65, 0.61,\n",
              "       0.43, 0.33, 0.43, 0.5 , 0.43, 0.61, 0.61, 0.62, 0.56, 0.59, 0.31,\n",
              "       0.54, 0.56, 0.45, 0.69, 0.56, 0.5 , 0.48, 0.53, 0.39, 0.43, 0.49,\n",
              "       0.43, 0.51, 0.27, 0.62, 0.29, 0.45, 0.53, 3.1 , 0.71, 0.47, 0.29,\n",
              "       0.62, 0.27, 0.62, 0.66, 0.53, 0.42, 0.42, 0.66, 0.47, 0.53, 0.46,\n",
              "       0.41, 0.27, 0.37, 0.48, 0.59, 0.39, 0.46, 0.48, 0.42, 0.35, 0.54,\n",
              "       0.58, 0.51, 0.4 , 0.46, 0.53, 0.57, 0.53, 0.78, 0.61, 0.17, 0.94,\n",
              "       0.71, 0.21, 0.54, 0.39, 0.35, 0.32, 0.62, 0.55, 0.42, 0.51, 0.32,\n",
              "       0.57, 0.41, 0.47, 0.43, 0.39, 0.65, 0.29, 0.53, 0.32, 0.48, 0.56,\n",
              "       0.65, 0.39, 1.04, 0.26, 0.35, 0.34, 0.61, 0.55, 0.51, 0.51, 0.65,\n",
              "       0.17, 0.51, 0.65, 0.51, 0.57, 0.56, 0.64, 0.37, 0.39, 0.29, 0.5 ,\n",
              "       0.54, 0.51, 0.49, 0.37, 0.37, 0.58, 0.75, 0.37, 0.47, 0.17, 0.59,\n",
              "       0.57, 0.74, 0.5 , 0.43, 0.22, 0.4 , 0.39, 0.35, 0.46, 0.32, 0.4 ,\n",
              "       0.51, 0.47, 0.39, 0.73, 0.53, 0.49, 0.38, 0.48, 0.25, 0.46, 0.29,\n",
              "       0.58, 0.61, 0.57, 0.39, 0.43, 0.33, 0.41, 0.55, 0.42, 0.32, 0.43,\n",
              "       0.61, 2.25, 0.61, 0.5 , 0.67, 0.41, 0.35, 0.45, 0.5 , 0.61, 0.39,\n",
              "       0.33, 0.65, 0.53, 0.51, 0.62, 0.4 , 0.56, 1.04, 0.27, 0.67, 0.33,\n",
              "       0.33, 0.42, 0.66, 0.56, 0.51, 1.04, 0.33, 0.47, 0.47, 0.43, 0.49,\n",
              "       0.49, 0.34, 1.62, 0.58, 0.43, 0.39, 1.05, 0.29, 0.46, 0.56, 0.53,\n",
              "       0.39, 0.62, 0.45, 0.56, 0.51, 0.33, 0.67, 0.51, 0.55, 0.42, 1.62,\n",
              "       0.19, 0.58, 0.77, 0.24, 0.59, 0.33, 0.61, 0.38, 0.74, 0.33, 0.42,\n",
              "       0.67, 0.62, 0.66, 0.39, 0.35, 0.49, 0.27, 0.35, 0.47, 0.38, 0.46,\n",
              "       0.24, 0.47, 0.43, 0.51, 0.59, 0.91, 0.41, 0.49, 1.79, 0.29, 0.47,\n",
              "       0.55, 0.51, 0.53, 0.38, 0.63, 0.57, 0.73, 0.4 , 0.47, 0.41, 0.55,\n",
              "       0.51, 0.54, 0.35, 0.54, 0.4 , 0.35, 0.45, 0.45, 0.39, 0.39, 0.42,\n",
              "       0.45, 0.47, 0.72, 0.49, 0.65, 0.51, 0.61, 0.53, 0.43, 0.71, 0.37,\n",
              "       0.54, 0.55, 0.49, 0.46, 0.48, 0.57, 0.56, 0.5 , 0.43, 0.56, 0.48,\n",
              "       0.57, 0.4 , 0.58, 0.58, 2.25, 0.42, 0.45, 0.22, 0.39, 0.5 , 0.5 ,\n",
              "       0.46, 0.45, 0.46, 1.68, 0.29, 0.24, 0.38, 0.35, 0.35, 0.56, 0.4 ,\n",
              "       0.58, 0.42, 0.43, 0.61, 0.61, 0.59, 0.66, 0.48, 0.51, 0.66, 0.45,\n",
              "       0.65, 0.51, 0.58, 0.43, 0.62, 0.42, 0.41, 0.37, 0.63, 1.68, 0.42,\n",
              "       0.5 , 0.5 , 0.29, 0.45, 0.49, 0.51, 0.48, 0.49, 0.34, 0.43, 0.37,\n",
              "       0.59, 0.37, 0.4 , 0.71, 1.05, 0.62, 0.51, 0.41, 0.5 , 0.48, 0.55,\n",
              "       0.61, 0.58, 0.58, 0.49, 0.33, 0.42, 0.24, 0.32, 0.27, 0.39, 0.48,\n",
              "       1.1 , 1.58, 0.32, 0.69, 0.33, 0.58, 0.49, 0.47, 0.46, 0.49, 0.33,\n",
              "       0.57, 0.32, 0.37, 0.59, 0.56, 0.26, 0.41, 1.68, 0.42, 0.62, 0.49,\n",
              "       0.45, 0.54, 0.4 , 0.51, 0.54, 0.53, 0.47, 0.54, 0.37, 0.53, 0.37,\n",
              "       0.27, 0.5 , 0.51, 0.51, 0.49, 1.1 , 0.54, 0.59, 0.42, 0.5 , 0.55,\n",
              "       0.39, 0.46, 0.39, 0.59, 0.3 , 0.39, 0.64, 0.46, 0.56, 0.65, 0.55,\n",
              "       0.21, 0.59, 1.68, 0.57, 0.55, 0.41, 0.59, 0.58, 0.47, 0.58, 0.46,\n",
              "       0.47, 0.56, 0.5 , 0.91, 0.55, 0.53, 0.47, 0.32, 0.57, 0.35, 0.37,\n",
              "       0.55])"
            ]
          },
          "metadata": {}
        }
      ],
      "execution_count": 123,
      "metadata": {
        "collapsed": false,
        "outputHidden": false,
        "inputHidden": false
      }
    }
  ],
  "metadata": {
    "kernel_info": {
      "name": "python3"
    },
    "kernelspec": {
      "name": "python3",
      "language": "python",
      "display_name": "Python 3"
    },
    "language_info": {
      "mimetype": "text/x-python",
      "nbconvert_exporter": "python",
      "name": "python",
      "pygments_lexer": "ipython2",
      "version": "2.7.15+",
      "file_extension": ".py",
      "codemirror_mode": {
        "version": 2,
        "name": "ipython"
      }
    },
    "nteract": {
      "version": "0.14.2"
    }
  },
  "nbformat": 4,
  "nbformat_minor": 1
}